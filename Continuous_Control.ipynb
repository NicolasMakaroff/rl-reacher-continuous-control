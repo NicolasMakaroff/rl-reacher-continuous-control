{
 "cells": [
  {
   "cell_type": "markdown",
   "metadata": {},
   "source": [
    "# Continuous Control\n",
    "\n",
    "---\n",
    "\n",
    "You are welcome to use this coding environment to train your agent for the project.  Follow the instructions below to get started!\n",
    "\n",
    "### 1. Start the Environment\n",
    "\n",
    "Run the next code cell to install a few packages.  This line will take a few minutes to run!"
   ]
  },
  {
   "cell_type": "code",
   "execution_count": 1,
   "metadata": {},
   "outputs": [
    {
     "name": "stdout",
     "output_type": "stream",
     "text": [
      "\u001b[31mtensorflow 1.7.1 has requirement numpy>=1.13.3, but you'll have numpy 1.12.1 which is incompatible.\u001b[0m\n",
      "\u001b[31mipython 6.5.0 has requirement prompt-toolkit<2.0.0,>=1.0.15, but you'll have prompt-toolkit 3.0.5 which is incompatible.\u001b[0m\n"
     ]
    }
   ],
   "source": [
    "!pip -q install ./python"
   ]
  },
  {
   "cell_type": "markdown",
   "metadata": {},
   "source": [
    "The environments corresponding to both versions of the environment are already saved in the Workspace and can be accessed at the file paths provided below.  \n",
    "\n",
    "Please select one of the two options below for loading the environment."
   ]
  },
  {
   "cell_type": "code",
   "execution_count": 2,
   "metadata": {},
   "outputs": [
    {
     "name": "stderr",
     "output_type": "stream",
     "text": [
      "INFO:unityagents:\n",
      "'Academy' started successfully!\n",
      "Unity Academy name: Academy\n",
      "        Number of Brains: 1\n",
      "        Number of External Brains : 1\n",
      "        Lesson number : 0\n",
      "        Reset Parameters :\n",
      "\t\tgoal_size -> 5.0\n",
      "\t\tgoal_speed -> 1.0\n",
      "Unity brain name: ReacherBrain\n",
      "        Number of Visual Observations (per agent): 0\n",
      "        Vector Observation space type: continuous\n",
      "        Vector Observation space size (per agent): 33\n",
      "        Number of stacked Vector Observation: 1\n",
      "        Vector Action space type: continuous\n",
      "        Vector Action space size (per agent): 4\n",
      "        Vector Action descriptions: , , , \n"
     ]
    }
   ],
   "source": [
    "from unityagents import UnityEnvironment\n",
    "import numpy as np\n",
    "\n",
    "# select this option to load version 1 (with a single agent) of the environment\n",
    "#env = UnityEnvironment(file_name='/data/Reacher_One_Linux_NoVis/Reacher_One_Linux_NoVis.x86_64')\n",
    "\n",
    "# select this option to load version 2 (with 20 agents) of the environment\n",
    "env = UnityEnvironment(file_name='/data/Reacher_Linux_NoVis/Reacher.x86_64')"
   ]
  },
  {
   "cell_type": "markdown",
   "metadata": {},
   "source": [
    "Environments contain **_brains_** which are responsible for deciding the actions of their associated agents. Here we check for the first brain available, and set it as the default brain we will be controlling from Python."
   ]
  },
  {
   "cell_type": "code",
   "execution_count": 3,
   "metadata": {},
   "outputs": [],
   "source": [
    "# get the default brain\n",
    "brain_name = env.brain_names[0]\n",
    "brain = env.brains[brain_name]"
   ]
  },
  {
   "cell_type": "markdown",
   "metadata": {},
   "source": [
    "### 2. Examine the State and Action Spaces\n",
    "\n",
    "Run the code cell below to print some information about the environment."
   ]
  },
  {
   "cell_type": "code",
   "execution_count": 4,
   "metadata": {},
   "outputs": [
    {
     "name": "stdout",
     "output_type": "stream",
     "text": [
      "Number of agents: 20\n",
      "Size of each action: 4\n",
      "There are 20 agents. Each observes a state with length: 33\n",
      "The state for the first agent looks like: [  0.00000000e+00  -4.00000000e+00   0.00000000e+00   1.00000000e+00\n",
      "  -0.00000000e+00  -0.00000000e+00  -4.37113883e-08   0.00000000e+00\n",
      "   0.00000000e+00   0.00000000e+00   0.00000000e+00   0.00000000e+00\n",
      "   0.00000000e+00   0.00000000e+00  -1.00000000e+01   0.00000000e+00\n",
      "   1.00000000e+00  -0.00000000e+00  -0.00000000e+00  -4.37113883e-08\n",
      "   0.00000000e+00   0.00000000e+00   0.00000000e+00   0.00000000e+00\n",
      "   0.00000000e+00   0.00000000e+00   5.75471878e+00  -1.00000000e+00\n",
      "   5.55726624e+00   0.00000000e+00   1.00000000e+00   0.00000000e+00\n",
      "  -1.68164849e-01]\n"
     ]
    }
   ],
   "source": [
    "# reset the environment\n",
    "env_info = env.reset(train_mode=True)[brain_name]\n",
    "\n",
    "# number of agents\n",
    "num_agents = len(env_info.agents)\n",
    "print('Number of agents:', num_agents)\n",
    "\n",
    "# size of each action\n",
    "action_size = brain.vector_action_space_size\n",
    "print('Size of each action:', action_size)\n",
    "\n",
    "# examine the state space \n",
    "states = env_info.vector_observations\n",
    "state_size = states.shape[1]\n",
    "print('There are {} agents. Each observes a state with length: {}'.format(states.shape[0], state_size))\n",
    "print('The state for the first agent looks like:', states[0])"
   ]
  },
  {
   "cell_type": "markdown",
   "metadata": {},
   "source": [
    "### 3. Take Random Actions in the Environment\n",
    "\n",
    "In the next code cell, you will learn how to use the Python API to control the agent and receive feedback from the environment.\n",
    "\n",
    "Note that **in this coding environment, you will not be able to watch the agents while they are training**, and you should set `train_mode=True` to restart the environment."
   ]
  },
  {
   "cell_type": "code",
   "execution_count": 5,
   "metadata": {},
   "outputs": [
    {
     "name": "stdout",
     "output_type": "stream",
     "text": [
      "Total score (averaged over agents) this episode: 0.08449999811127781\n"
     ]
    }
   ],
   "source": [
    "env_info = env.reset(train_mode=True)[brain_name]      # reset the environment    \n",
    "states = env_info.vector_observations                  # get the current state (for each agent)\n",
    "scores = np.zeros(num_agents)                          # initialize the score (for each agent)\n",
    "while True:\n",
    "    actions = np.random.randn(num_agents, action_size) # select an action (for each agent)\n",
    "    actions = np.clip(actions, -1, 1)                  # all actions between -1 and 1\n",
    "    env_info = env.step(actions)[brain_name]           # send all actions to tne environment\n",
    "    next_states = env_info.vector_observations         # get next state (for each agent)\n",
    "    rewards = env_info.rewards                         # get reward (for each agent)\n",
    "    dones = env_info.local_done                        # see if episode finished\n",
    "    scores += env_info.rewards                         # update the score (for each agent)\n",
    "    states = next_states                               # roll over states to next time step\n",
    "    if np.any(dones):                                  # exit loop if episode finished\n",
    "        break\n",
    "print('Total score (averaged over agents) this episode: {}'.format(np.mean(scores)))"
   ]
  },
  {
   "cell_type": "markdown",
   "metadata": {},
   "source": [
    "When finished, you can close the environment."
   ]
  },
  {
   "cell_type": "code",
   "execution_count": 6,
   "metadata": {},
   "outputs": [],
   "source": [
    "#env.close()"
   ]
  },
  {
   "cell_type": "markdown",
   "metadata": {},
   "source": [
    "### 4. It's Your Turn!\n",
    "\n",
    "Now it's your turn to train your own agent to solve the environment!  A few **important notes**:\n",
    "- When training the environment, set `train_mode=True`, so that the line for resetting the environment looks like the following:\n",
    "```python\n",
    "env_info = env.reset(train_mode=True)[brain_name]\n",
    "```\n",
    "- To structure your work, you're welcome to work directly in this Jupyter notebook, or you might like to start over with a new file!  You can see the list of files in the workspace by clicking on **_Jupyter_** in the top left corner of the notebook.\n",
    "- In this coding environment, you will not be able to watch the agents while they are training.  However, **_after training the agents_**, you can download the saved model weights to watch the agents on your own machine! "
   ]
  },
  {
   "cell_type": "code",
   "execution_count": 7,
   "metadata": {},
   "outputs": [],
   "source": [
    "import time \n",
    "import torch \n",
    "\n",
    "def ddpg(n_episodes=2000, max_t=1000):\n",
    "    \"\"\"Deep Deterministic Policy Gradients (DDPG).\n",
    "    \n",
    "    Params\n",
    "    ======\n",
    "        n_episodes (int): maximum number of training episodes\n",
    "        max_t (int): maximum number of timesteps per episode\n",
    "    \"\"\"\n",
    "    scores = []      # episodic scores\n",
    "    moving_avg = []  # moving average over 100 episodes and over all agents\n",
    "\n",
    "    ## Perform n_episodes of training\n",
    "    time_training_start = time.time()\n",
    "    for i_episode in range(1, n_episodes+1):\n",
    "        time_episode_start = time.time()\n",
    "        agent.noise.reset()\n",
    "        states = env.reset(train_mode=True)[brain_name].vector_observations\n",
    "        scores_episode = np.zeros(num_agents)           \n",
    "\n",
    "        for t in range(1, max_t+1):\n",
    "            # Perform a step: S;A;R;S'\n",
    "            actions = agent.act(states)                 \n",
    "            env_info = env.step(actions)[brain_name]    \n",
    "            rewards = env_info.rewards                  \n",
    "            next_states = env_info.vector_observations \n",
    "            # Send the results to the Agent\n",
    "            for (state, action, reward, next_state) \\\n",
    "                    in zip(states, actions, rewards, next_states):\n",
    "                agent.step(state, action, reward, next_state)\n",
    "            # Update the variables for the next iteration\n",
    "            states = next_states\n",
    "            scores_episode += rewards\n",
    "\n",
    "        # Store the rewards and calculate the moving average\n",
    "        scores.append(scores_episode.tolist())\n",
    "        moving_avg.append(np.mean(scores[-100:], axis=0))\n",
    "        # Calculate the elapsed time\n",
    "        time_episode = time.time() - time_episode_start\n",
    "        time_elapsed = time.time() - time_training_start\n",
    "        time_episode_str = time.strftime('%Mm%Ss', time.gmtime(time_episode))\n",
    "\n",
    "\n",
    "        print('Episode {:3d} ({})\\tScore: {:5.2f} (H: {:5.2f} / L: {:5.2f})\\t' \\\n",
    "              'Moving average: {:5.2f} (H: {:5.2f} / L: {:5.2f})' \\\n",
    "              .format(i_episode, time_episode_str, scores_episode.mean(),\n",
    "                      scores_episode.max(), scores_episode.min(),\n",
    "                      moving_avg[-1].mean(), moving_avg[-1].max(),\n",
    "                      moving_avg[-1].min()))\n",
    "        torch.save(agent.actor_local.state_dict(),'ddpg_actor.pth')\n",
    "        torch.save(agent.critic_local.state_dict(),'ddpg_critic.pth')\n",
    "        ## Check if the environment has been solved\n",
    "        if moving_avg[-1].mean() >= 30 and i_episode >= 100:\n",
    "            time_elapsed_str = time.strftime('%Hh%Mm%Ss', time.gmtime(time_elapsed))\n",
    "            print('\\nEnvironment solved in {:d} episodes!\\t' \\\n",
    "                  'Average Score: {:.2f}\\tElapsed time: {}'\n",
    "                  .format(i_episode-100, moving_avg[-1].mean(),\n",
    "                          time_elapsed_str))\n",
    "            \n",
    "            ## Save the model with parameters\n",
    "            checkpoint = {\n",
    "                'actor_dict': agent.actor_local.state_dict(),\n",
    "                'critic_dict': agent.critic_local.state_dict(),\n",
    "                'ddpg_params': {\n",
    "                    'batch_size': ddpg_agent._batch_size,\n",
    "                    'buffer_size': ddpg_agent._buffer_size,\n",
    "                    'gamma': ddpg_agent._gamma,\n",
    "                    'lr_actor': ddpg_agent._lr_actor,\n",
    "                    'lr_critic': ddpg_agent._lr_critic,\n",
    "                    'tau': ddpg_agent._tau,\n",
    "                    },\n",
    "                'episodes': i_episode,\n",
    "                'elapsed_time': time_elapsed_str,\n",
    "                'scores': scores,\n",
    "                'moving_avg': moving_avg,\n",
    "                }\n",
    "            print('\\nSaving model ...', end=' ')\n",
    "            torch.save(checkpoint, 'checkpoint.pt')\n",
    "            print('done.')\n",
    "\n",
    "            break\n",
    "\n",
    "    return scores, moving_avg"
   ]
  },
  {
   "cell_type": "code",
   "execution_count": null,
   "metadata": {},
   "outputs": [
    {
     "name": "stdout",
     "output_type": "stream",
     "text": [
      "DDPG Agent hyperparameters:\n",
      "\tbatch size: \t\t     128\n",
      "\tbuffer size: \t\t  100000\n",
      "\tdiscount / gamma: \t   0.990\n",
      "\tactor learning rate: \t   0.001\n",
      "\tcritic learning rate: \t   0.001\n",
      "\tsoft update / tau: \t   0.001\n",
      "\tnoise decay rate: \t   0.999\n",
      "\n",
      "Episode   1 (03m00s)\tScore: 21.44 (H: 29.29 / L: 10.91)\tMoving average: 21.44 (H: 29.29 / L: 10.91)\n",
      "Episode   2 (03m03s)\tScore: 28.56 (H: 38.35 / L: 10.87)\tMoving average: 25.00 (H: 33.14 / L: 14.98)\n",
      "Episode   3 (03m04s)\tScore: 28.96 (H: 37.11 / L: 16.07)\tMoving average: 26.32 (H: 32.88 / L: 18.82)\n",
      "Episode   4 (03m03s)\tScore: 33.93 (H: 38.87 / L: 29.42)\tMoving average: 28.23 (H: 34.08 / L: 22.26)\n",
      "Episode   5 (03m05s)\tScore: 34.37 (H: 38.26 / L: 28.68)\tMoving average: 29.46 (H: 34.04 / L: 24.60)\n",
      "Episode   6 (03m07s)\tScore: 36.45 (H: 39.54 / L: 27.72)\tMoving average: 30.62 (H: 34.75 / L: 26.05)\n",
      "Episode   7 (03m07s)\tScore: 33.42 (H: 38.61 / L: 19.10)\tMoving average: 31.02 (H: 34.62 / L: 26.70)\n",
      "Episode   8 (03m07s)\tScore: 30.91 (H: 38.60 / L:  0.77)\tMoving average: 31.01 (H: 34.39 / L: 24.79)\n",
      "Episode   9 (03m07s)\tScore: 32.63 (H: 38.96 / L: 19.60)\tMoving average: 31.19 (H: 34.15 / L: 24.71)\n",
      "Episode  10 (03m05s)\tScore: 32.50 (H: 39.63 / L: 23.73)\tMoving average: 31.32 (H: 34.53 / L: 25.86)\n",
      "Episode  11 (03m04s)\tScore: 34.63 (H: 39.53 / L: 29.74)\tMoving average: 31.62 (H: 34.65 / L: 26.35)\n",
      "Episode  12 (03m05s)\tScore: 34.63 (H: 39.65 / L: 26.20)\tMoving average: 31.87 (H: 34.94 / L: 27.30)\n",
      "Episode  13 (03m06s)\tScore: 36.83 (H: 39.60 / L: 30.46)\tMoving average: 32.25 (H: 34.97 / L: 28.18)\n",
      "Episode  14 (03m02s)\tScore: 31.58 (H: 38.47 / L: 19.51)\tMoving average: 32.21 (H: 34.91 / L: 28.80)\n",
      "Episode  15 (03m03s)\tScore: 28.69 (H: 38.30 / L: 11.75)\tMoving average: 31.97 (H: 34.76 / L: 28.86)\n",
      "Episode  16 (03m04s)\tScore: 36.81 (H: 39.35 / L: 29.55)\tMoving average: 32.27 (H: 34.99 / L: 29.35)\n",
      "Episode  17 (03m05s)\tScore: 31.87 (H: 38.29 / L: 22.75)\tMoving average: 32.25 (H: 34.86 / L: 29.26)\n",
      "Episode  18 (03m06s)\tScore: 35.42 (H: 38.56 / L: 27.63)\tMoving average: 32.43 (H: 34.89 / L: 29.42)\n",
      "Episode  19 (03m05s)\tScore: 34.80 (H: 39.00 / L: 24.42)\tMoving average: 32.55 (H: 35.06 / L: 29.85)\n",
      "Episode  20 (03m03s)\tScore: 36.06 (H: 38.91 / L: 26.79)\tMoving average: 32.73 (H: 35.19 / L: 30.30)\n",
      "Episode  21 (03m03s)\tScore: 36.10 (H: 38.88 / L: 26.85)\tMoving average: 32.89 (H: 35.00 / L: 30.71)\n",
      "Episode  22 (03m05s)\tScore: 36.30 (H: 39.39 / L: 24.14)\tMoving average: 33.04 (H: 35.16 / L: 30.41)\n",
      "Episode  23 (03m06s)\tScore: 36.07 (H: 39.03 / L: 28.09)\tMoving average: 33.17 (H: 35.30 / L: 30.58)\n",
      "Episode  24 (03m05s)\tScore: 35.54 (H: 38.79 / L: 27.61)\tMoving average: 33.27 (H: 35.40 / L: 30.45)\n",
      "Episode  25 (03m04s)\tScore: 36.07 (H: 39.29 / L: 28.58)\tMoving average: 33.38 (H: 35.55 / L: 30.78)\n",
      "Episode  26 (03m03s)\tScore: 34.86 (H: 39.69 / L: 27.14)\tMoving average: 33.44 (H: 35.69 / L: 30.77)\n",
      "Episode  27 (03m02s)\tScore: 37.12 (H: 39.44 / L: 34.38)\tMoving average: 33.58 (H: 35.68 / L: 30.96)\n",
      "Episode  28 (03m04s)\tScore: 36.76 (H: 38.88 / L: 33.09)\tMoving average: 33.69 (H: 35.63 / L: 31.17)\n",
      "Episode  29 (03m03s)\tScore: 34.06 (H: 39.49 / L: 30.66)\tMoving average: 33.70 (H: 35.45 / L: 31.39)\n",
      "Episode  30 (03m02s)\tScore: 37.32 (H: 39.37 / L: 31.69)\tMoving average: 33.82 (H: 35.56 / L: 31.64)\n",
      "Episode  31 (03m03s)\tScore: 34.53 (H: 39.39 / L: 17.93)\tMoving average: 33.85 (H: 35.40 / L: 31.73)\n",
      "Episode  32 (03m05s)\tScore: 36.42 (H: 39.34 / L: 31.47)\tMoving average: 33.93 (H: 35.44 / L: 31.91)\n",
      "Episode  33 (03m05s)\tScore: 38.70 (H: 39.62 / L: 35.71)\tMoving average: 34.07 (H: 35.54 / L: 32.12)\n",
      "Episode  34 (03m04s)\tScore: 38.25 (H: 39.47 / L: 35.77)\tMoving average: 34.19 (H: 35.59 / L: 32.25)\n",
      "Episode  35 (03m03s)\tScore: 35.25 (H: 39.18 / L: 23.31)\tMoving average: 34.22 (H: 35.69 / L: 32.14)\n",
      "Episode  36 (03m03s)\tScore: 31.89 (H: 38.88 / L: 20.07)\tMoving average: 34.16 (H: 35.43 / L: 32.16)\n",
      "Episode  37 (03m03s)\tScore: 33.31 (H: 37.13 / L: 24.01)\tMoving average: 34.14 (H: 35.45 / L: 32.25)\n",
      "Episode  38 (03m03s)\tScore: 35.14 (H: 39.28 / L: 29.10)\tMoving average: 34.16 (H: 35.39 / L: 32.24)\n",
      "Episode  39 (03m01s)\tScore: 32.45 (H: 39.47 / L: 26.89)\tMoving average: 34.12 (H: 35.31 / L: 32.14)\n",
      "Episode  40 (03m02s)\tScore: 34.19 (H: 39.60 / L: 29.02)\tMoving average: 34.12 (H: 35.16 / L: 32.33)\n",
      "Episode  41 (03m03s)\tScore: 34.72 (H: 38.47 / L: 28.25)\tMoving average: 34.14 (H: 35.05 / L: 32.40)\n",
      "Episode  42 (03m02s)\tScore: 31.74 (H: 39.15 / L: 17.66)\tMoving average: 34.08 (H: 34.99 / L: 32.05)\n",
      "Episode  43 (03m03s)\tScore: 30.53 (H: 36.59 / L: 20.21)\tMoving average: 34.00 (H: 34.92 / L: 31.88)\n"
     ]
    }
   ],
   "source": [
    "# Create the Agent\n",
    "from agent import Agent\n",
    "agent = Agent(state_size, action_size, random_seed=0)\n",
    "\n",
    "# Train the Agent\n",
    "scores, moving_avg = ddpg()"
   ]
  },
  {
   "cell_type": "code",
   "execution_count": null,
   "metadata": {},
   "outputs": [],
   "source": []
  }
 ],
 "metadata": {
  "kernelspec": {
   "display_name": "Python 3.7.3 64-bit ('base': conda)",
   "language": "python",
   "name": "python37364bitbaseconda7bdb38472b8447b1a3c551411def93ed"
  },
  "language_info": {
   "codemirror_mode": {
    "name": "ipython",
    "version": 3
   },
   "file_extension": ".py",
   "mimetype": "text/x-python",
   "name": "python",
   "nbconvert_exporter": "python",
   "pygments_lexer": "ipython3",
   "version": "3.7.4"
  }
 },
 "nbformat": 4,
 "nbformat_minor": 4
}
